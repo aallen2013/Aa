{
  "nbformat": 4,
  "nbformat_minor": 0,
  "metadata": {
    "colab": {
      "provenance": [],
      "authorship_tag": "ABX9TyNS/4tOw4F+cJiKy8jAYutM",
      "include_colab_link": true
    },
    "kernelspec": {
      "name": "python3",
      "display_name": "Python 3"
    },
    "language_info": {
      "name": "python"
    }
  },
  "cells": [
    {
      "cell_type": "markdown",
      "metadata": {
        "id": "view-in-github",
        "colab_type": "text"
      },
      "source": [
        "<a href=\"https://colab.research.google.com/github/aallen2013/Aa/blob/main/Copy_of_Untitled5.ipynb\" target=\"_parent\"><img src=\"https://colab.research.google.com/assets/colab-badge.svg\" alt=\"Open In Colab\"/></a>"
      ]
    },
    {
      "cell_type": "code",
      "execution_count": null,
      "metadata": {
        "colab": {
          "base_uri": "https://localhost:8080/"
        },
        "id": "ytNFSlJtQS_i",
        "outputId": "2e5d7795-2538-43ad-93e5-e8d3dbf36c25"
      },
      "outputs": [
        {
          "output_type": "stream",
          "name": "stdout",
          "text": [
            "████████░     ████████░   ██████████░    ███████░     ██░     ██░     ███░    ███░ ██░     ██░\r\n",
            "██░     ██░ ███░     ███░ ██░          ███░    ██░   ████░   ████░      ██░  ██░   ██░     ██░\r\n",
            "██░     ██░ ██░       ██░ ██░         ███░           ██░██░ ██░██░       ██░██░    ██░     ██░\r\n",
            "████████░   ██░       ██░ ████████░   ██░           ███░ ██░██░ ██░       ███░     ██████████░\r\n",
            "██░     ██░ ██░       ██░ ██░         ███░          ██░  █████░ ███░     ██░██░    ██░     ██░\r\n",
            "██░     ██░ ███░     ███░ ██░          ███░    ██░ ███░   ███░   ██░    ██░  ██░   ██░     ██░\r\n",
            "████████░     ████████░   ██████████░    ███████░  ██░           ███░ ███░    ███░ ██░     ██░\n",
            "\n"
          ]
        }
      ],
      "source": [
        "import pandas as pd\n",
        "from bs4 import BeautifulSoup\n",
        "\n",
        "def getTableDataSorted(url):\n",
        "    tableData = pd.read_html(url, header=0, flavor='bs4')\n",
        "    return tableData[0].sort_values(by=[\"y-coordinate\",\"x-coordinate\"], ignore_index=True)\n",
        "\n",
        "def printData(tableData):\n",
        "    xcoord = tableData['x-coordinate']\n",
        "    ycoord = tableData['y-coordinate']\n",
        "    char = tableData['Character']\n",
        "\n",
        "    for i in range(0, len(ycoord)):\n",
        "        if (i != 0) and (xcoord[i] - xcoord[i - 1] != 1):\n",
        "            # empty spaces\n",
        "            print(\" \" * int((xcoord[i]) - (xcoord[i - 1]) - 1), end='')\n",
        "        if (i !=0) and (ycoord[i] != (ycoord[i - 1])):\n",
        "            # new line\n",
        "            print('\\r')\n",
        "        print (char[i], end='')\n",
        "    print('\\n')\n",
        "import pandas as pd\n",
        "from bs4 import BeautifulSoup\n",
        "\n",
        "def getTableDataSorted(url):\n",
        "    tableData = pd.read_html(url, header=0, flavor='bs4')\n",
        "    return tableData[0].sort_values(by=[\"y-coordinate\",\"x-coordinate\"], ignore_index=True)\n",
        "\n",
        "def printData(tableData):\n",
        "    xcoord = tableData['x-coordinate']\n",
        "    ycoord = tableData['y-coordinate']\n",
        "    char = tableData['Character']\n",
        "\n",
        "    for i in range(0, len(ycoord)):\n",
        "        if (i != 0) and (xcoord[i] - xcoord[i - 1] != 1):\n",
        "            # empty spaces\n",
        "            print(\" \" * int((xcoord[i]) - (xcoord[i - 1]) - 1), end='')\n",
        "        if (i !=0) and (ycoord[i] != (ycoord[i - 1])):\n",
        "            # new line\n",
        "            print('\\r')\n",
        "        print (char[i], end='')\n",
        "    print('\\n')\n",
        "\n",
        "tableData = getTableDataSorted(\"https://docs.google.com/document/d/e/2PACX-1vQGUck9HIFCyezsrBSnmENk5ieJuYwpt7YHYEzeNJkIb9OSDdx-ov2nRNReKQyey-cwJOoEKUhLmN9z/pub\")\n",
        "printData(tableData)"
      ]
    }
  ]
}